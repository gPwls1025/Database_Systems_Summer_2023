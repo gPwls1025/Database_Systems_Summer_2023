{
 "cells": [
  {
   "cell_type": "code",
   "execution_count": null,
   "metadata": {},
   "outputs": [],
   "source": [
    "import pandas as pd\n",
    "import numpy as np\n",
    "import pandas as pd\n",
    "import matplotlib.pyplot as plt\n",
    "import seaborn as sns\n",
    "from sklearn.model_selection import train_test_split \n",
    "from sklearn.linear_model import LinearRegression\n",
    "from sklearn import metrics\n",
    "from sklearn.metrics import r2_score\n",
    "from sklearn.model_selection import GridSearchCV\n",
    "from sklearn.linear_model import Lasso, Ridge\n",
    "from scipy import stats\n",
    "import pickle"
   ]
  },
  {
   "cell_type": "markdown",
   "metadata": {},
   "source": [
    "# Load necessary tables"
   ]
  },
  {
   "cell_type": "code",
   "execution_count": null,
   "metadata": {},
   "outputs": [],
   "source": [
    "%%bigquery product\n",
    "SELECT * FROM full_insurance_data.ProductType"
   ]
  },
  {
   "cell_type": "code",
   "execution_count": null,
   "metadata": {},
   "outputs": [],
   "source": [
    "%%bigquery Disease\n",
    "SELECT\n",
    "    HP.ID,\n",
    "    HP.Health_Condition_ID,\n",
    "    HP.Hypertension,\n",
    "    HP.High_Cholesterol,\n",
    "    HP.CoronaryHeartDisease,\n",
    "    HP.Angina,\n",
    "    HP.HeartAttack,\n",
    "    HP.Stroke,\n",
    "    HP.Asthma,\n",
    "    HP.Cancer,\n",
    "    HP.Prediabetes,\n",
    "    HP.GestationalDiabetes,\n",
    "    HP.COPD,\n",
    "    HP.Arthritis,\n",
    "    HP.Dementia,\n",
    "    HP.Anxiety_Disorder,\n",
    "    HP.Depression,\n",
    "    HP.Epilepsy,\n",
    "    CC.Chronic_Fatigue_Syndrome\n",
    "FROM\n",
    "    full_insurance_data.Health_Problem AS HP\n",
    "JOIN\n",
    "    full_insurance_data.Current_Conditions AS CC\n",
    "ON\n",
    "    HP.ID = CC.ID"
   ]
  },
  {
   "cell_type": "code",
   "execution_count": null,
   "metadata": {},
   "outputs": [],
   "source": [
    "# List of disease columns to check\n",
    "disease_columns = [\n",
    "    'Hypertension', 'High_Cholesterol', 'CoronaryHeartDisease', 'Angina',\n",
    "    'HeartAttack', 'Stroke', 'Asthma', 'Cancer', 'Prediabetes',\n",
    "    'GestationalDiabetes', 'COPD', 'Arthritis', 'Dementia',\n",
    "    'Anxiety_Disorder', 'Depression', 'Epilepsy', 'Chronic_Fatigue_Syndrome'\n",
    "]\n",
    "\n",
    "# Function to check if any of the diseases is equal to 1 for a row\n",
    "def has_disease(row):\n",
    "    return any(pd.notna(row[col]) and row[col] == 1 for col in disease_columns)\n",
    "\n",
    "# Create the 'disease' variable based on the custom function\n",
    "Disease['disease'] = Disease.apply(has_disease, axis=1)"
   ]
  },
  {
   "cell_type": "code",
   "execution_count": null,
   "metadata": {},
   "outputs": [],
   "source": [
    "%%bigquery Current_Condition\n",
    "SELECT\n",
    "    ID, \n",
    "    Health_Condition_ID,\n",
    "    Weight,\n",
    "    Height,\n",
    "    Pregnant,\n",
    "    Health_WeakImmune,\n",
    "    (Weight * 0.45359237) / POWER((Height * 0.0254), 2) AS BMI\n",
    "FROM\n",
    "    full_insurance_data.Current_Conditions"
   ]
  },
  {
   "cell_type": "code",
   "execution_count": null,
   "metadata": {},
   "outputs": [],
   "source": [
    "%%bigquery Lifestyle\n",
    "SELECT *\n",
    "FROM full_insurance_data.Alcohol AS A\n",
    "JOIN full_insurance_data.smoking AS S\n",
    "ON A.ID = S.ID\n",
    "JOIN full_insurance_data.activity AS Act\n",
    "ON A.ID = Act.ID"
   ]
  },
  {
   "cell_type": "code",
   "execution_count": null,
   "metadata": {},
   "outputs": [],
   "source": [
    "%%bigquery demographics\n",
    "SELECT ID, Urban_Rural,Region,Gender,Age,Race,Education,Num_Fam_Adult,Num_Fam_Kid, Current_MaritalStatus,Citizenship,JobYN,Housing\n",
    "FROM full_insurance_data.Demographic"
   ]
  },
  {
   "cell_type": "markdown",
   "metadata": {},
   "source": [
    "# Preprocessing"
   ]
  },
  {
   "cell_type": "markdown",
   "metadata": {},
   "source": [
    "merged_df = demographics.merge(Current_Condition, on='ID').merge(Disease, on='ID').merge(Lifestyle,on='ID').merge(product, on='ID')\n",
    "merged_df"
   ]
  },
  {
   "cell_type": "code",
   "execution_count": null,
   "metadata": {},
   "outputs": [],
   "source": [
    "merged_df.shape"
   ]
  },
  {
   "cell_type": "code",
   "execution_count": null,
   "metadata": {},
   "outputs": [],
   "source": [
    "# Drop people without insurance \n",
    "merged_df = merged_df[merged_df['ProductType'] == 1]\n",
    "\n",
    "# Replace NaN values in 'Premium' with the median value\n",
    "median_value = merged_df['Premium'].median()\n",
    "merged_df['Premium'] = merged_df['Premium'].fillna(median_value)\n",
    "#add log premium\n",
    "merged_df['LogPremium']=np.log(merged_df['Premium'])\n",
    "#Add smoke yes/no variable - 1=Yes, 0=No, 2=Unknown\n",
    "smoke_mapping={1:1,2:1, 3:0,4:0,5:2,9:2}\n",
    "merged_df['smoke'] = merged_df['SMKCIGST_A'].map(smoke_mapping)\n",
    "\n",
    "#merged_df\n",
    "\n",
    "#check missing data\n",
    "#remove those with NA premiums\n",
    "merged_df['Chronic_Fatigue_Syndrome']=merged_df['Chronic_Fatigue_Syndrome'].fillna(8)\n",
    "merged_df.loc[merged_df.Gender==1&merged_df.Pregnant,'Pregnant']=2\n",
    "merged_df['Pregnant']=merged_df['Pregnant'].fillna(8)\n",
    "\n",
    "merged_df.isnull().sum()"
   ]
  },
  {
   "cell_type": "markdown",
   "metadata": {},
   "source": [
    "# Linear Regression - Prediction of Insurance Premium Depending of different variables"
   ]
  },
  {
   "cell_type": "markdown",
   "metadata": {},
   "source": [
    "# dividing dataset into train and test\n",
    "x = merged_df[['Gender', 'Age', 'BMI','Num_Fam_Adult','Health_WeakImmune','Num_Fam_Kid','SMKCIGST_A','DRKSTAT_A',\n",
    "              'Hypertension', 'High_Cholesterol', 'CoronaryHeartDisease', 'Angina',\n",
    "    'HeartAttack', 'Stroke', 'Asthma', 'Cancer', \n",
    "    'GestationalDiabetes', 'COPD', 'Arthritis', 'Dementia',\n",
    "    'Anxiety_Disorder', 'Depression', 'Epilepsy', 'Chronic_Fatigue_Syndrome','Citizenship','Urban_Rural','Education']]\n",
    "y = merged_df[['LogPremium']]\n",
    "\n",
    "# Split 20% with test_size=0.2\n",
    "X_train, X_test, y_train, y_test = train_test_split(x, y, test_size=0.2, random_state=42)\n",
    "print(x.shape, y.shape)\n",
    "print(X_train.shape, y_train.shape)\n",
    "print(X_test.shape, y_test.shape)"
   ]
  },
  {
   "cell_type": "code",
   "execution_count": null,
   "metadata": {},
   "outputs": [],
   "source": [
    "cat_cols = [\n",
    "    'Hypertension', 'High_Cholesterol', 'CoronaryHeartDisease', 'Angina',\n",
    "    'HeartAttack', 'Stroke', 'Asthma', 'Cancer', \n",
    "    'GestationalDiabetes', 'COPD', 'Arthritis', 'Dementia',\n",
    "    'Anxiety_Disorder', 'Depression', 'Epilepsy', 'Chronic_Fatigue_Syndrome','Citizenship','Urban_Rural',\n",
    "'Education']\n",
    "for c in cat_cols:\n",
    "    X_train[c]=X_train[c].astype(\"category\")\n",
    "    X_test[c]=X_test[c].astype(\"category\")"
   ]
  },
  {
   "cell_type": "code",
   "execution_count": null,
   "metadata": {},
   "outputs": [],
   "source": [
    "set(X_train['Gender'])"
   ]
  },
  {
   "cell_type": "code",
   "execution_count": null,
   "metadata": {},
   "outputs": [],
   "source": [
    "#Linear regression\n",
    "model = LinearRegression()\n",
    "model.fit(X_train, y_train)\n",
    "train_pred = model.predict(X_train)\n",
    "\n",
    "# calculate the accuracy of the model by computing the R2 score between predicted and real values\n",
    "r2_train = metrics.r2_score(y_train, train_pred)\n",
    "spearman=print('R squared value : ', r2_train)"
   ]
  },
  {
   "cell_type": "code",
   "execution_count": null,
   "metadata": {},
   "outputs": [],
   "source": [
    "# prediction on test data\n",
    "test_pred =model.predict(X_test)\n",
    "res = stats.spearmanr(y_test, test_pred)\n",
    "# R squared value\n",
    "r2_test = metrics.r2_score(y_test, test_pred)\n",
    "print('R squared value : ', r2_test)\n",
    "print('Spearman Rank : ', res.statistic)"
   ]
  },
  {
   "cell_type": "code",
   "execution_count": null,
   "metadata": {},
   "outputs": [],
   "source": [
    "import statsmodels.api as sm\n",
    "\n",
    "X2 = sm.add_constant(X_train)\n",
    "est = sm.OLS(y_train, X2)\n",
    "est2 = est.fit()\n",
    "print(est2.summary())"
   ]
  },
  {
   "cell_type": "code",
   "execution_count": null,
   "metadata": {},
   "outputs": [],
   "source": [
    "#hyperperameter tuning\n",
    "grid_vals = {'penalty': ['l1','l2'], 'C': [0.001,0.005,0.01,0.05,0.1,0.5,1,5]}\n",
    "#lasso\n",
    "lasso_param_grid = {\n",
    "    'alpha': [0.001, 0.01, 0.1, 1.0, 10.0, 100.0]\n",
    "}\n",
    "lasso_model = Lasso()\n",
    "lasso_grid_search = GridSearchCV(lasso_model, lasso_param_grid, cv=5, scoring='neg_mean_squared_error')\n",
    "lasso_grid_search.fit(X_train, y_train)\n",
    "best_lasso_alpha = lasso_grid_search.best_params_['alpha']\n",
    "best_lasso_model = lasso_grid_search.best_estimator_\n",
    "\n",
    "# Evaluate Lasso model\n",
    "lasso_predictions = best_lasso_model.predict(X_test)\n",
    "r2_test = r2_score(y_test, lasso_predictions)\n",
    "res=stats.spearmanr(y_test, lasso_predictions)\n",
    "print('R squared value : ', r2_test)\n",
    "print(f\"Lasso Best Alpha: {best_lasso_alpha}\")\n",
    "print(f\"Lasso Spearman Rank: {res.statistic}\")\n",
    "#ridge\n",
    "\n",
    "ridge_param_grid = {\n",
    "    'alpha': [0.001, 0.01, 0.1, 1.0, 10.0, 100.0]\n",
    "}\n",
    "\n",
    "# Create Ridge regression model\n",
    "ridge_model = Ridge()\n",
    "\n",
    "# Perform grid search for Ridge regression\n",
    "ridge_grid_search = GridSearchCV(ridge_model, ridge_param_grid, cv=5, scoring='neg_mean_squared_error')\n",
    "ridge_grid_search.fit(X_train, y_train)\n",
    "\n",
    "# Get best hyperparameters and corresponding model\n",
    "best_ridge_alpha = ridge_grid_search.best_params_['alpha']\n",
    "best_ridge_model = ridge_grid_search.best_estimator_\n",
    "\n",
    "# Evaluate Ridge model\n",
    "ridge_predictions = best_ridge_model.predict(X_test)\n",
    "ridge_r2 = r2_score(y_test, ridge_predictions)\n",
    "res=stats.spearmanr(y_test, ridge_predictions)\n",
    "print(f\"Ridge Best Alpha: {best_ridge_alpha}\")\n",
    "print(f\"Ridge R2: {ridge_r2}\")\n",
    "print(f\"Ridge Spearman Rank: {res.statistic}\")"
   ]
  },
  {
   "cell_type": "markdown",
   "metadata": {},
   "source": [
    "# Decision Tree - Regression: whether data collected about disease can increase the cost of insurance products"
   ]
  },
  {
   "cell_type": "markdown",
   "metadata": {},
   "source": [
    "from sklearn.model_selection import train_test_split\n",
    "from sklearn.tree import DecisionTreeRegressor\n",
    "from sklearn.metrics import mean_squared_error, r2_score"
   ]
  },
  {
   "cell_type": "code",
   "execution_count": null,
   "metadata": {},
   "outputs": [],
   "source": [
    "#drop id from merged_df for correaltion analysis - string\n",
    "#merged_df.drop('Premium')\n",
    "corr_analysis = merged_df.drop(['ID', 'Age','Health_Condition_ID_x', 'Weight',\n",
    "                                'Height', 'Pregnant', 'Health_Condition_ID_y',\n",
    "                                'disease', 'Life_Style_ID', 'DRKSTAT_A', 'ID_1', 'Life_Style_ID_1',\n",
    "                                'SMKCIGST_A', 'ID_2', 'Life_Style_ID_2','Premium','LogPremium', 'BMI'], axis=1)"
   ]
  },
  {
   "cell_type": "markdown",
   "metadata": {},
   "source": [
    "#categorical variables in list\n",
    "cat_vars=['Urban_Rural','Region','Gender','Race','Education','Num_Fam_Adult','Num_Fam_Kid',\n",
    "          'Current_MaritalStatus','Citizenship','JobYN','Housing','Health_WeakImmune',\n",
    "          'Hypertension','High_Cholesterol','CoronaryHeartDisease','Angina','HeartAttack',\n",
    "          'Stroke','Asthma','Cancer','Prediabetes','GestationalDiabetes','COPD',\n",
    "          'Arthritis','Dementia','Anxiety_Disorder','Depression','Epilepsy',\n",
    "          'Chronic_Fatigue_Syndrome','Walking','Sleeping','Eating','Meditation',\n",
    "          'Yoga','Therapy','Dr_Visit','Coverage','ProductType','smoke']\n",
    "\n",
    "# Perform one-hot encoding on the categorical variables\n",
    "data_encoded = pd.get_dummies(corr_analysis, columns=cat_vars)\n",
    "selected_columns = ['Age', 'BMI', 'LogPremium']\n",
    "combined_corr_analysis = pd.concat([data_encoded, merged_df[selected_columns]], axis=1)\n",
    "combined_corr_analysis"
   ]
  },
  {
   "cell_type": "code",
   "execution_count": null,
   "metadata": {},
   "outputs": [],
   "source": [
    "# Calculate correlation matrix for the combined DataFrame\n",
    "correlation_matrix = combined_corr_analysis.corr() \n",
    "correlation_matrix"
   ]
  },
  {
   "cell_type": "code",
   "execution_count": null,
   "metadata": {},
   "outputs": [],
   "source": [
    "correlation_matrix['LogPremium'].abs()"
   ]
  },
  {
   "cell_type": "code",
   "execution_count": null,
   "metadata": {},
   "outputs": [],
   "source": [
    "# Assuming 'data' is your DataFrame with variables and target variable\n",
    "correlation_matrix = combined_corr_analysis.corr()\n",
    "x=correlation_matrix['LogPremium'].abs()\n",
    "correlation_with_target = correlation_matrix['LogPremium'].abs().sort_values(ascending=False)\n",
    "\n",
    "# Select the top N features with the highest correlation coefficients (e.g., top 10)\n",
    "top_n_features = correlation_with_target.head(11).index.tolist()\n",
    "\n",
    "print(\"Top N features with the highest correlation to 'LogPremium':\")\n",
    "print(top_n_features)"
   ]
  },
  {
   "cell_type": "code",
   "execution_count": null,
   "metadata": {},
   "outputs": [],
   "source": [
    "# Split the data into features (X) and target variable (y)\n",
    "x = combined_corr_analysis[['Num_Fam_Adult_1', 'JobYN_1', 'Current_MaritalStatus_1', 'Current_MaritalStatus_5', 'Housing_2', 'Num_Fam_Kid_0', 'Num_Fam_Adult_3', 'Current_MaritalStatus_9', 'Housing_1', 'Citizenship_2']]\n",
    "y = combined_corr_analysis[['LogPremium']]\n",
    "\n",
    "# Split the data into training and testing sets (80% training, 20% testing)\n",
    "X_train, X_test, y_train, y_test = train_test_split(x, y, test_size=0.2, random_state=42)\n",
    "\n",
    "# Create a Decision Tree Regressor model\n",
    "dt_model = DecisionTreeRegressor()\n",
    "\n",
    "# Train the model on the training data\n",
    "dt_model.fit(X_train, y_train)\n",
    "\n",
    "# Make predictions on the test data\n",
    "y_pred = dt_model.predict(X_test)"
   ]
  },
  {
   "cell_type": "code",
   "execution_count": null,
   "metadata": {},
   "outputs": [],
   "source": [
    "# Calculate mean squared error (MSE) and R-squared (R2) for evaluation\n",
    "mse = mean_squared_error(y_test, y_pred)\n",
    "r2 = r2_score(y_test, y_pred)\n",
    "res=  stats.spearmanr(y_test, y_pred)\n",
    "print(\"Mean Squared Error:\", mse)\n",
    "print(\"R-squared:\", r2)\n",
    "print('Spearman Rank:', res.statistic)"
   ]
  },
  {
   "cell_type": "code",
   "execution_count": null,
   "metadata": {},
   "outputs": [],
   "source": [
    "#serialize model:\n",
    "trained_model = pickle.dumps(dt_model,'test.pickle')"
   ]
  },
  {
   "cell_type": "code",
   "execution_count": null,
   "metadata": {},
   "outputs": [],
   "source": [
    "pickle.dump(dt_model, open(filename, 'wb'))"
   ]
  }
 ],
 "metadata": {
  "language_info": {
   "name": "python"
  },
  "orig_nbformat": 4
 },
 "nbformat": 4,
 "nbformat_minor": 2
}
